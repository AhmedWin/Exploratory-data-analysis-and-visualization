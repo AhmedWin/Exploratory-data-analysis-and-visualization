{
 "cells": [
  {
   "cell_type": "markdown",
   "metadata": {},
   "source": [
    "***Importing necessary libraries***"
   ]
  },
  {
   "cell_type": "code",
   "execution_count": null,
   "metadata": {
    "execution": {
     "iopub.execute_input": "2024-03-25T17:10:06.951305Z",
     "iopub.status.busy": "2024-03-25T17:10:06.950479Z",
     "iopub.status.idle": "2024-03-25T17:10:06.958341Z",
     "shell.execute_reply": "2024-03-25T17:10:06.957197Z",
     "shell.execute_reply.started": "2024-03-25T17:10:06.951259Z"
    },
    "trusted": true
   },
   "outputs": [],
   "source": [
    "import numpy as np\n",
    "import pandas as pd\n",
    "import seaborn as sns\n",
    "import matplotlib.pyplot as plt\n",
    "%matplotlib inline"
   ]
  },
  {
   "cell_type": "markdown",
   "metadata": {},
   "source": [
    "***Dimensions of the dataset***"
   ]
  },
  {
   "cell_type": "code",
   "execution_count": null,
   "metadata": {
    "execution": {
     "iopub.execute_input": "2024-03-25T17:10:07.9492Z",
     "iopub.status.busy": "2024-03-25T17:10:07.948242Z",
     "iopub.status.idle": "2024-03-25T17:10:07.95595Z",
     "shell.execute_reply": "2024-03-25T17:10:07.954816Z",
     "shell.execute_reply.started": "2024-03-25T17:10:07.949162Z"
    },
    "trusted": true
   },
   "outputs": [],
   "source": [
    "data.shape"
   ]
  },
  {
   "cell_type": "markdown",
   "metadata": {},
   "source": [
    "***Descriptive summary of the dataframe***"
   ]
  },
  {
   "cell_type": "code",
   "execution_count": null,
   "metadata": {
    "execution": {
     "iopub.execute_input": "2024-03-25T17:10:08.553455Z",
     "iopub.status.busy": "2024-03-25T17:10:08.552724Z",
     "iopub.status.idle": "2024-03-25T17:10:08.578763Z",
     "shell.execute_reply": "2024-03-25T17:10:08.577467Z",
     "shell.execute_reply.started": "2024-03-25T17:10:08.553418Z"
    },
    "trusted": true
   },
   "outputs": [],
   "source": [
    "data.describe()"
   ]
  },
  {
   "cell_type": "markdown",
   "metadata": {},
   "source": [
    "*data.describe(include = \"all\") --> categorical columns*"
   ]
  },
  {
   "cell_type": "markdown",
   "metadata": {},
   "source": [
    "***Information about the dataset***"
   ]
  },
  {
   "cell_type": "code",
   "execution_count": null,
   "metadata": {
    "execution": {
     "iopub.execute_input": "2024-03-25T17:10:09.612805Z",
     "iopub.status.busy": "2024-03-25T17:10:09.612428Z",
     "iopub.status.idle": "2024-03-25T17:10:09.643022Z",
     "shell.execute_reply": "2024-03-25T17:10:09.641574Z",
     "shell.execute_reply.started": "2024-03-25T17:10:09.612777Z"
    },
    "trusted": true
   },
   "outputs": [],
   "source": [
    "data.info()"
   ]
  },
  {
   "cell_type": "markdown",
   "metadata": {},
   "source": [
    "***DataType conversion from Object to Datetime***"
   ]
  },
  {
   "cell_type": "code",
   "execution_count": null,
   "metadata": {
    "execution": {
     "iopub.execute_input": "2024-03-25T17:10:10.575125Z",
     "iopub.status.busy": "2024-03-25T17:10:10.574597Z",
     "iopub.status.idle": "2024-03-25T17:10:10.589277Z",
     "shell.execute_reply": "2024-03-25T17:10:10.588094Z",
     "shell.execute_reply.started": "2024-03-25T17:10:10.575084Z"
    },
    "trusted": true
   },
   "outputs": [],
   "source": [
    "data['Start Date'] = pd.to_datetime(data['Start Date'])"
   ]
  },
  {
   "cell_type": "markdown",
   "metadata": {},
   "source": [
    "***Viewing the unique columns***"
   ]
  },
  {
   "cell_type": "code",
   "execution_count": null,
   "metadata": {
    "execution": {
     "iopub.execute_input": "2024-03-25T17:10:11.350988Z",
     "iopub.status.busy": "2024-03-25T17:10:11.349298Z",
     "iopub.status.idle": "2024-03-25T17:10:11.366048Z",
     "shell.execute_reply": "2024-03-25T17:10:11.364896Z",
     "shell.execute_reply.started": "2024-03-25T17:10:11.350942Z"
    },
    "trusted": true
   },
   "outputs": [],
   "source": [
    "data.nunique()"
   ]
  },
  {
   "cell_type": "markdown",
   "metadata": {},
   "source": [
    "***Handling missing values***"
   ]
  },
  {
   "cell_type": "code",
   "execution_count": null,
   "metadata": {
    "execution": {
     "iopub.execute_input": "2024-03-25T17:10:12.12278Z",
     "iopub.status.busy": "2024-03-25T17:10:12.122409Z",
     "iopub.status.idle": "2024-03-25T17:10:12.132103Z",
     "shell.execute_reply": "2024-03-25T17:10:12.130976Z",
     "shell.execute_reply.started": "2024-03-25T17:10:12.122751Z"
    },
    "trusted": true
   },
   "outputs": [],
   "source": [
    "data.isnull().sum()"
   ]
  },
  {
   "cell_type": "markdown",
   "metadata": {},
   "source": [
    "***Filling the missing values***"
   ]
  },
  {
   "cell_type": "code",
   "execution_count": null,
   "metadata": {
    "execution": {
     "iopub.execute_input": "2024-03-25T17:10:20.946241Z",
     "iopub.status.busy": "2024-03-25T17:10:20.945077Z",
     "iopub.status.idle": "2024-03-25T17:10:20.951764Z",
     "shell.execute_reply": "2024-03-25T17:10:20.950452Z",
     "shell.execute_reply.started": "2024-03-25T17:10:20.946198Z"
    },
    "trusted": true
   },
   "outputs": [],
   "source": [
    "import warnings\n",
    "warnings.filterwarnings(\"ignore\")"
   ]
  },
  {
   "cell_type": "code",
   "execution_count": null,
   "metadata": {
    "execution": {
     "iopub.execute_input": "2024-03-25T17:10:21.557236Z",
     "iopub.status.busy": "2024-03-25T17:10:21.556103Z",
     "iopub.status.idle": "2024-03-25T17:10:21.567627Z",
     "shell.execute_reply": "2024-03-25T17:10:21.566807Z",
     "shell.execute_reply.started": "2024-03-25T17:10:21.557188Z"
    },
    "trusted": true
   },
   "outputs": [],
   "source": [
    "data['Gender'].fillna(\"No Gender\", inplace = True)\n",
    "data.isnull().sum()"
   ]
  },
  {
   "cell_type": "code",
   "execution_count": null,
   "metadata": {
    "execution": {
     "iopub.execute_input": "2024-03-25T17:10:22.267254Z",
     "iopub.status.busy": "2024-03-25T17:10:22.266875Z",
     "iopub.status.idle": "2024-03-25T17:10:22.279981Z",
     "shell.execute_reply": "2024-03-25T17:10:22.278827Z",
     "shell.execute_reply.started": "2024-03-25T17:10:22.267221Z"
    },
    "trusted": true
   },
   "outputs": [],
   "source": [
    "mode = data['Senior Management'].mode().values[0]\n",
    "data['Senior Management'] = data['Senior Management'].replace(np.nan, mode)\n",
    "data.isnull().sum()"
   ]
  },
  {
   "cell_type": "markdown",
   "metadata": {},
   "source": [
    "***Dropping columns***"
   ]
  },
  {
   "cell_type": "code",
   "execution_count": null,
   "metadata": {
    "execution": {
     "iopub.execute_input": "2024-03-25T17:10:23.453101Z",
     "iopub.status.busy": "2024-03-25T17:10:23.452739Z",
     "iopub.status.idle": "2024-03-25T17:10:23.469336Z",
     "shell.execute_reply": "2024-03-25T17:10:23.468353Z",
     "shell.execute_reply.started": "2024-03-25T17:10:23.453074Z"
    },
    "trusted": true
   },
   "outputs": [],
   "source": [
    "data = data.dropna()\n",
    "data.isnull().sum()"
   ]
  },
  {
   "cell_type": "markdown",
   "metadata": {},
   "source": [
    "***Data Encoding***"
   ]
  },
  {
   "cell_type": "code",
   "execution_count": null,
   "metadata": {
    "execution": {
     "iopub.execute_input": "2024-03-25T17:10:24.195627Z",
     "iopub.status.busy": "2024-03-25T17:10:24.195208Z",
     "iopub.status.idle": "2024-03-25T17:10:24.479528Z",
     "shell.execute_reply": "2024-03-25T17:10:24.478441Z",
     "shell.execute_reply.started": "2024-03-25T17:10:24.195591Z"
    },
    "trusted": true
   },
   "outputs": [],
   "source": [
    "from sklearn.preprocessing import LabelEncoder\n",
    "le = LabelEncoder()\n",
    "data['Gender'] = le.fit_transform(data['Gender'])"
   ]
  },
  {
   "cell_type": "markdown",
   "metadata": {},
   "source": [
    "***Data Visualization***"
   ]
  },
  {
   "cell_type": "markdown",
   "metadata": {},
   "source": [
    "1. Histogram"
   ]
  },
  {
   "cell_type": "code",
   "execution_count": null,
   "metadata": {
    "execution": {
     "iopub.execute_input": "2024-03-25T17:10:25.858022Z",
     "iopub.status.busy": "2024-03-25T17:10:25.857624Z",
     "iopub.status.idle": "2024-03-25T17:10:26.172028Z",
     "shell.execute_reply": "2024-03-25T17:10:26.17068Z",
     "shell.execute_reply.started": "2024-03-25T17:10:25.857985Z"
    },
    "trusted": true
   },
   "outputs": [],
   "source": [
    "sns.histplot(x = 'Salary', data = data)"
   ]
  },
  {
   "cell_type": "markdown",
   "metadata": {},
   "source": [
    "2. Boxplot"
   ]
  },
  {
   "cell_type": "code",
   "execution_count": null,
   "metadata": {
    "execution": {
     "iopub.execute_input": "2024-03-25T17:10:27.046779Z",
     "iopub.status.busy": "2024-03-25T17:10:27.046256Z",
     "iopub.status.idle": "2024-03-25T17:10:27.417166Z",
     "shell.execute_reply": "2024-03-25T17:10:27.415706Z",
     "shell.execute_reply.started": "2024-03-25T17:10:27.046738Z"
    },
    "trusted": true
   },
   "outputs": [],
   "source": [
    "sns.boxplot(x = 'Salary', y = 'Team', data = data)"
   ]
  },
  {
   "cell_type": "markdown",
   "metadata": {},
   "source": [
    "3. Scatterplot"
   ]
  },
  {
   "cell_type": "code",
   "execution_count": null,
   "metadata": {
    "execution": {
     "iopub.execute_input": "2024-03-25T17:10:27.792277Z",
     "iopub.status.busy": "2024-03-25T17:10:27.791604Z",
     "iopub.status.idle": "2024-03-25T17:10:28.450259Z",
     "shell.execute_reply": "2024-03-25T17:10:28.448719Z",
     "shell.execute_reply.started": "2024-03-25T17:10:27.792244Z"
    },
    "trusted": true
   },
   "outputs": [],
   "source": [
    "sns.scatterplot(x = 'Salary', y = 'Team', data = data, hue = 'Gender', size = 'Bonus %')\n",
    "plt.legend(bbox_to_anchor = (1,1), loc = 2)"
   ]
  },
  {
   "cell_type": "code",
   "execution_count": null,
   "metadata": {
    "execution": {
     "iopub.execute_input": "2024-03-25T17:10:28.488341Z",
     "iopub.status.busy": "2024-03-25T17:10:28.487966Z",
     "iopub.status.idle": "2024-03-25T17:10:32.716441Z",
     "shell.execute_reply": "2024-03-25T17:10:32.71521Z",
     "shell.execute_reply.started": "2024-03-25T17:10:28.488313Z"
    },
    "trusted": true
   },
   "outputs": [],
   "source": [
    "sns.pairplot(data, hue = 'Gender', height = 2)"
   ]
  },
  {
   "cell_type": "markdown",
   "metadata": {},
   "source": [
    "***Handling Outliers***"
   ]
  },
  {
   "cell_type": "code",
   "execution_count": null,
   "metadata": {
    "execution": {
     "iopub.execute_input": "2024-03-25T17:10:32.719797Z",
     "iopub.status.busy": "2024-03-25T17:10:32.718779Z",
     "iopub.status.idle": "2024-03-25T17:10:32.746961Z",
     "shell.execute_reply": "2024-03-25T17:10:32.746078Z",
     "shell.execute_reply.started": "2024-03-25T17:10:32.719749Z"
    },
    "trusted": true
   },
   "outputs": [],
   "source": [
    "data = pd.read_csv('/kaggle/input/iris-dataset/iris.csv')\n",
    "data.head()"
   ]
  },
  {
   "cell_type": "code",
   "execution_count": null,
   "metadata": {
    "execution": {
     "iopub.execute_input": "2024-03-25T17:10:32.74905Z",
     "iopub.status.busy": "2024-03-25T17:10:32.748407Z",
     "iopub.status.idle": "2024-03-25T17:10:33.140922Z",
     "shell.execute_reply": "2024-03-25T17:10:33.139678Z",
     "shell.execute_reply.started": "2024-03-25T17:10:32.749008Z"
    },
    "trusted": true
   },
   "outputs": [],
   "source": [
    "sns.boxplot(data = data)"
   ]
  }
 ],
 "metadata": {
  "kaggle": {
   "accelerator": "none",
   "dataSources": [
    {
     "datasetId": 2354152,
     "sourceId": 3966491,
     "sourceType": "datasetVersion"
    },
    {
     "datasetId": 2856125,
     "sourceId": 4925199,
     "sourceType": "datasetVersion"
    }
   ],
   "dockerImageVersionId": 30673,
   "isGpuEnabled": false,
   "isInternetEnabled": false,
   "language": "python",
   "sourceType": "notebook"
  },
  "kernelspec": {
   "display_name": "Python 3",
   "language": "python",
   "name": "python3"
  },
  "language_info": {
   "codemirror_mode": {
    "name": "ipython",
    "version": 3
   },
   "file_extension": ".py",
   "mimetype": "text/x-python",
   "name": "python",
   "nbconvert_exporter": "python",
   "pygments_lexer": "ipython3",
   "version": "3.10.13"
  }
 },
 "nbformat": 4,
 "nbformat_minor": 4
}
